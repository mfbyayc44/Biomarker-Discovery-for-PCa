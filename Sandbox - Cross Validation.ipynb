{
 "cells": [
  {
   "cell_type": "code",
   "execution_count": 1,
   "metadata": {},
   "outputs": [],
   "source": [
    "import numpy as np\n",
    "import pandas as pd \n",
    "import sklearn\n",
    "import matplotlib.pyplot as plt\n",
    "import seaborn as sns\n",
    "from matplotlib import style\n",
    "style.use('ggplot')\n",
    "import ML_functions ## a self-created script, known as ML_functions.py\n",
    "import numpy as np"
   ]
  },
  {
   "cell_type": "code",
   "execution_count": 2,
   "metadata": {},
   "outputs": [
    {
     "data": {
      "text/plain": [
       "(388, 337)"
      ]
     },
     "execution_count": 2,
     "metadata": {},
     "output_type": "execute_result"
    }
   ],
   "source": [
    "data = pd.read_csv(\"forest C vs C.csv\")\n",
    "#data = pd.read_csv('multivariate.csv')\n",
    "data = data.sort_values(by = \"Label\",ascending = False)\n",
    "## Divide data into numerical data and label\n",
    "status = pd.DataFrame(data[\"Label\"])\n",
    "data_df = pd.DataFrame(data.iloc[:,1:])\n",
    "data_df.shape"
   ]
  },
  {
   "cell_type": "code",
   "execution_count": 3,
   "metadata": {},
   "outputs": [
    {
     "data": {
      "text/html": [
       "<div>\n",
       "<style scoped>\n",
       "    .dataframe tbody tr th:only-of-type {\n",
       "        vertical-align: middle;\n",
       "    }\n",
       "\n",
       "    .dataframe tbody tr th {\n",
       "        vertical-align: top;\n",
       "    }\n",
       "\n",
       "    .dataframe thead th {\n",
       "        text-align: right;\n",
       "    }\n",
       "</style>\n",
       "<table border=\"1\" class=\"dataframe\">\n",
       "  <thead>\n",
       "    <tr style=\"text-align: right;\">\n",
       "      <th></th>\n",
       "      <th>B9A064</th>\n",
       "      <th>O00187</th>\n",
       "      <th>O00391</th>\n",
       "      <th>O00533</th>\n",
       "      <th>O14786</th>\n",
       "      <th>O14791</th>\n",
       "      <th>O15230</th>\n",
       "      <th>O43866</th>\n",
       "      <th>O75636</th>\n",
       "      <th>O75882</th>\n",
       "      <th>...</th>\n",
       "      <th>Q15910</th>\n",
       "      <th>Q6UX71</th>\n",
       "      <th>Q96EE4</th>\n",
       "      <th>P27487</th>\n",
       "      <th>Q13822</th>\n",
       "      <th>P35030</th>\n",
       "      <th>P04899</th>\n",
       "      <th>Q9UNN8</th>\n",
       "      <th>P30307</th>\n",
       "      <th>Label</th>\n",
       "    </tr>\n",
       "  </thead>\n",
       "  <tbody>\n",
       "    <tr>\n",
       "      <th>235</th>\n",
       "      <td>13.189070</td>\n",
       "      <td>9.029903</td>\n",
       "      <td>9.451866</td>\n",
       "      <td>8.471447</td>\n",
       "      <td>6.299603</td>\n",
       "      <td>10.368394</td>\n",
       "      <td>1.000000</td>\n",
       "      <td>9.539435</td>\n",
       "      <td>10.893973</td>\n",
       "      <td>11.372265</td>\n",
       "      <td>...</td>\n",
       "      <td>1.000000</td>\n",
       "      <td>8.777049</td>\n",
       "      <td>1.0</td>\n",
       "      <td>7.375587</td>\n",
       "      <td>9.090401</td>\n",
       "      <td>10.525970</td>\n",
       "      <td>1.000000</td>\n",
       "      <td>1.0</td>\n",
       "      <td>9.685563</td>\n",
       "      <td>Control</td>\n",
       "    </tr>\n",
       "    <tr>\n",
       "      <th>323</th>\n",
       "      <td>1.000000</td>\n",
       "      <td>8.834304</td>\n",
       "      <td>9.256055</td>\n",
       "      <td>8.642149</td>\n",
       "      <td>8.610312</td>\n",
       "      <td>10.242162</td>\n",
       "      <td>1.000000</td>\n",
       "      <td>8.135678</td>\n",
       "      <td>10.989825</td>\n",
       "      <td>11.334537</td>\n",
       "      <td>...</td>\n",
       "      <td>1.000000</td>\n",
       "      <td>8.296410</td>\n",
       "      <td>1.0</td>\n",
       "      <td>6.480773</td>\n",
       "      <td>8.327400</td>\n",
       "      <td>1.000000</td>\n",
       "      <td>1.000000</td>\n",
       "      <td>1.0</td>\n",
       "      <td>1.000000</td>\n",
       "      <td>Control</td>\n",
       "    </tr>\n",
       "    <tr>\n",
       "      <th>322</th>\n",
       "      <td>1.000000</td>\n",
       "      <td>8.627372</td>\n",
       "      <td>7.743659</td>\n",
       "      <td>8.845883</td>\n",
       "      <td>1.000000</td>\n",
       "      <td>9.693214</td>\n",
       "      <td>1.000000</td>\n",
       "      <td>8.046227</td>\n",
       "      <td>9.921671</td>\n",
       "      <td>10.495538</td>\n",
       "      <td>...</td>\n",
       "      <td>1.000000</td>\n",
       "      <td>1.000000</td>\n",
       "      <td>1.0</td>\n",
       "      <td>8.038928</td>\n",
       "      <td>1.000000</td>\n",
       "      <td>1.000000</td>\n",
       "      <td>1.000000</td>\n",
       "      <td>1.0</td>\n",
       "      <td>8.078304</td>\n",
       "      <td>Control</td>\n",
       "    </tr>\n",
       "    <tr>\n",
       "      <th>102</th>\n",
       "      <td>12.117098</td>\n",
       "      <td>7.333235</td>\n",
       "      <td>8.920492</td>\n",
       "      <td>8.465599</td>\n",
       "      <td>1.000000</td>\n",
       "      <td>10.093014</td>\n",
       "      <td>1.000000</td>\n",
       "      <td>8.922455</td>\n",
       "      <td>10.701251</td>\n",
       "      <td>10.672264</td>\n",
       "      <td>...</td>\n",
       "      <td>1.000000</td>\n",
       "      <td>1.000000</td>\n",
       "      <td>1.0</td>\n",
       "      <td>1.000000</td>\n",
       "      <td>1.000000</td>\n",
       "      <td>1.000000</td>\n",
       "      <td>1.000000</td>\n",
       "      <td>1.0</td>\n",
       "      <td>9.734431</td>\n",
       "      <td>Control</td>\n",
       "    </tr>\n",
       "    <tr>\n",
       "      <th>321</th>\n",
       "      <td>7.771095</td>\n",
       "      <td>8.868281</td>\n",
       "      <td>9.465477</td>\n",
       "      <td>9.134283</td>\n",
       "      <td>1.000000</td>\n",
       "      <td>11.182106</td>\n",
       "      <td>1.000000</td>\n",
       "      <td>9.489207</td>\n",
       "      <td>10.469340</td>\n",
       "      <td>10.910737</td>\n",
       "      <td>...</td>\n",
       "      <td>1.000000</td>\n",
       "      <td>1.000000</td>\n",
       "      <td>1.0</td>\n",
       "      <td>1.000000</td>\n",
       "      <td>1.000000</td>\n",
       "      <td>10.843160</td>\n",
       "      <td>1.000000</td>\n",
       "      <td>1.0</td>\n",
       "      <td>1.000000</td>\n",
       "      <td>Control</td>\n",
       "    </tr>\n",
       "    <tr>\n",
       "      <th>...</th>\n",
       "      <td>...</td>\n",
       "      <td>...</td>\n",
       "      <td>...</td>\n",
       "      <td>...</td>\n",
       "      <td>...</td>\n",
       "      <td>...</td>\n",
       "      <td>...</td>\n",
       "      <td>...</td>\n",
       "      <td>...</td>\n",
       "      <td>...</td>\n",
       "      <td>...</td>\n",
       "      <td>...</td>\n",
       "      <td>...</td>\n",
       "      <td>...</td>\n",
       "      <td>...</td>\n",
       "      <td>...</td>\n",
       "      <td>...</td>\n",
       "      <td>...</td>\n",
       "      <td>...</td>\n",
       "      <td>...</td>\n",
       "      <td>...</td>\n",
       "    </tr>\n",
       "    <tr>\n",
       "      <th>148</th>\n",
       "      <td>9.560794</td>\n",
       "      <td>8.911892</td>\n",
       "      <td>9.231011</td>\n",
       "      <td>9.158430</td>\n",
       "      <td>1.000000</td>\n",
       "      <td>9.871115</td>\n",
       "      <td>1.000000</td>\n",
       "      <td>9.396572</td>\n",
       "      <td>10.883337</td>\n",
       "      <td>10.959091</td>\n",
       "      <td>...</td>\n",
       "      <td>8.414080</td>\n",
       "      <td>1.000000</td>\n",
       "      <td>1.0</td>\n",
       "      <td>1.000000</td>\n",
       "      <td>1.000000</td>\n",
       "      <td>1.000000</td>\n",
       "      <td>1.000000</td>\n",
       "      <td>1.0</td>\n",
       "      <td>8.890243</td>\n",
       "      <td>Cancer</td>\n",
       "    </tr>\n",
       "    <tr>\n",
       "      <th>144</th>\n",
       "      <td>15.300832</td>\n",
       "      <td>8.737837</td>\n",
       "      <td>9.588418</td>\n",
       "      <td>8.436316</td>\n",
       "      <td>8.862250</td>\n",
       "      <td>9.996110</td>\n",
       "      <td>1.000000</td>\n",
       "      <td>8.222691</td>\n",
       "      <td>10.724325</td>\n",
       "      <td>10.979244</td>\n",
       "      <td>...</td>\n",
       "      <td>1.000000</td>\n",
       "      <td>1.000000</td>\n",
       "      <td>1.0</td>\n",
       "      <td>1.000000</td>\n",
       "      <td>1.000000</td>\n",
       "      <td>1.000000</td>\n",
       "      <td>6.446538</td>\n",
       "      <td>1.0</td>\n",
       "      <td>1.000000</td>\n",
       "      <td>Cancer</td>\n",
       "    </tr>\n",
       "    <tr>\n",
       "      <th>142</th>\n",
       "      <td>13.784741</td>\n",
       "      <td>9.052897</td>\n",
       "      <td>9.306391</td>\n",
       "      <td>9.364883</td>\n",
       "      <td>1.000000</td>\n",
       "      <td>10.491186</td>\n",
       "      <td>11.001768</td>\n",
       "      <td>9.275203</td>\n",
       "      <td>10.955343</td>\n",
       "      <td>11.144404</td>\n",
       "      <td>...</td>\n",
       "      <td>1.000000</td>\n",
       "      <td>1.000000</td>\n",
       "      <td>1.0</td>\n",
       "      <td>7.494615</td>\n",
       "      <td>1.000000</td>\n",
       "      <td>8.632698</td>\n",
       "      <td>1.000000</td>\n",
       "      <td>1.0</td>\n",
       "      <td>1.000000</td>\n",
       "      <td>Cancer</td>\n",
       "    </tr>\n",
       "    <tr>\n",
       "      <th>141</th>\n",
       "      <td>1.000000</td>\n",
       "      <td>8.557125</td>\n",
       "      <td>8.788325</td>\n",
       "      <td>9.353999</td>\n",
       "      <td>1.000000</td>\n",
       "      <td>10.780381</td>\n",
       "      <td>10.166901</td>\n",
       "      <td>7.076804</td>\n",
       "      <td>9.363935</td>\n",
       "      <td>10.930897</td>\n",
       "      <td>...</td>\n",
       "      <td>1.000000</td>\n",
       "      <td>1.000000</td>\n",
       "      <td>1.0</td>\n",
       "      <td>1.000000</td>\n",
       "      <td>1.000000</td>\n",
       "      <td>1.000000</td>\n",
       "      <td>7.050347</td>\n",
       "      <td>1.0</td>\n",
       "      <td>1.000000</td>\n",
       "      <td>Cancer</td>\n",
       "    </tr>\n",
       "    <tr>\n",
       "      <th>387</th>\n",
       "      <td>12.452234</td>\n",
       "      <td>9.115184</td>\n",
       "      <td>9.301182</td>\n",
       "      <td>9.281042</td>\n",
       "      <td>8.584264</td>\n",
       "      <td>10.568617</td>\n",
       "      <td>10.523485</td>\n",
       "      <td>8.270963</td>\n",
       "      <td>10.801242</td>\n",
       "      <td>11.127474</td>\n",
       "      <td>...</td>\n",
       "      <td>8.590526</td>\n",
       "      <td>1.000000</td>\n",
       "      <td>1.0</td>\n",
       "      <td>1.000000</td>\n",
       "      <td>8.643229</td>\n",
       "      <td>9.045401</td>\n",
       "      <td>7.459372</td>\n",
       "      <td>1.0</td>\n",
       "      <td>1.000000</td>\n",
       "      <td>Cancer</td>\n",
       "    </tr>\n",
       "  </tbody>\n",
       "</table>\n",
       "<p>388 rows × 337 columns</p>\n",
       "</div>"
      ],
      "text/plain": [
       "        B9A064    O00187    O00391    O00533    O14786     O14791     O15230  \\\n",
       "235  13.189070  9.029903  9.451866  8.471447  6.299603  10.368394   1.000000   \n",
       "323   1.000000  8.834304  9.256055  8.642149  8.610312  10.242162   1.000000   \n",
       "322   1.000000  8.627372  7.743659  8.845883  1.000000   9.693214   1.000000   \n",
       "102  12.117098  7.333235  8.920492  8.465599  1.000000  10.093014   1.000000   \n",
       "321   7.771095  8.868281  9.465477  9.134283  1.000000  11.182106   1.000000   \n",
       "..         ...       ...       ...       ...       ...        ...        ...   \n",
       "148   9.560794  8.911892  9.231011  9.158430  1.000000   9.871115   1.000000   \n",
       "144  15.300832  8.737837  9.588418  8.436316  8.862250   9.996110   1.000000   \n",
       "142  13.784741  9.052897  9.306391  9.364883  1.000000  10.491186  11.001768   \n",
       "141   1.000000  8.557125  8.788325  9.353999  1.000000  10.780381  10.166901   \n",
       "387  12.452234  9.115184  9.301182  9.281042  8.584264  10.568617  10.523485   \n",
       "\n",
       "       O43866     O75636     O75882  ...    Q15910    Q6UX71  Q96EE4  \\\n",
       "235  9.539435  10.893973  11.372265  ...  1.000000  8.777049     1.0   \n",
       "323  8.135678  10.989825  11.334537  ...  1.000000  8.296410     1.0   \n",
       "322  8.046227   9.921671  10.495538  ...  1.000000  1.000000     1.0   \n",
       "102  8.922455  10.701251  10.672264  ...  1.000000  1.000000     1.0   \n",
       "321  9.489207  10.469340  10.910737  ...  1.000000  1.000000     1.0   \n",
       "..        ...        ...        ...  ...       ...       ...     ...   \n",
       "148  9.396572  10.883337  10.959091  ...  8.414080  1.000000     1.0   \n",
       "144  8.222691  10.724325  10.979244  ...  1.000000  1.000000     1.0   \n",
       "142  9.275203  10.955343  11.144404  ...  1.000000  1.000000     1.0   \n",
       "141  7.076804   9.363935  10.930897  ...  1.000000  1.000000     1.0   \n",
       "387  8.270963  10.801242  11.127474  ...  8.590526  1.000000     1.0   \n",
       "\n",
       "       P27487    Q13822     P35030    P04899  Q9UNN8    P30307    Label  \n",
       "235  7.375587  9.090401  10.525970  1.000000     1.0  9.685563  Control  \n",
       "323  6.480773  8.327400   1.000000  1.000000     1.0  1.000000  Control  \n",
       "322  8.038928  1.000000   1.000000  1.000000     1.0  8.078304  Control  \n",
       "102  1.000000  1.000000   1.000000  1.000000     1.0  9.734431  Control  \n",
       "321  1.000000  1.000000  10.843160  1.000000     1.0  1.000000  Control  \n",
       "..        ...       ...        ...       ...     ...       ...      ...  \n",
       "148  1.000000  1.000000   1.000000  1.000000     1.0  8.890243   Cancer  \n",
       "144  1.000000  1.000000   1.000000  6.446538     1.0  1.000000   Cancer  \n",
       "142  7.494615  1.000000   8.632698  1.000000     1.0  1.000000   Cancer  \n",
       "141  1.000000  1.000000   1.000000  7.050347     1.0  1.000000   Cancer  \n",
       "387  1.000000  8.643229   9.045401  7.459372     1.0  1.000000   Cancer  \n",
       "\n",
       "[388 rows x 337 columns]"
      ]
     },
     "execution_count": 3,
     "metadata": {},
     "output_type": "execute_result"
    }
   ],
   "source": [
    "data_df"
   ]
  },
  {
   "cell_type": "markdown",
   "metadata": {},
   "source": [
    "Remove depletion protein "
   ]
  },
  {
   "cell_type": "code",
   "execution_count": 4,
   "metadata": {},
   "outputs": [
    {
     "name": "stdout",
     "output_type": "stream",
     "text": [
      "32 columns will be removed\n"
     ]
    }
   ],
   "source": [
    "data_df = ML_functions.remove_depletion_protein(data_df)"
   ]
  },
  {
   "cell_type": "markdown",
   "metadata": {},
   "source": [
    "Remove highly correlated proteins "
   ]
  },
  {
   "cell_type": "code",
   "execution_count": 5,
   "metadata": {},
   "outputs": [
    {
     "name": "stdout",
     "output_type": "stream",
     "text": [
      "48 genes are found to be strongly correlated\n",
      "(388, 261)\n"
     ]
    }
   ],
   "source": [
    "highcorr  = []\n",
    "data_df,highcorr = ML_functions.remove_highcorr(data_df)\n",
    "## Reinsert a protein (complement factor), because P02745,P02746,P02748 \n",
    "# are found to be important features, but they are all referred to complement factor \n",
    "data_df.insert(2,'P02745',data['P02745'])"
   ]
  },
  {
   "cell_type": "markdown",
   "metadata": {},
   "source": [
    "Select K best "
   ]
  },
  {
   "cell_type": "code",
   "execution_count": 6,
   "metadata": {},
   "outputs": [],
   "source": [
    "X = data_df.iloc[:,:-1]  #independent columns\n",
    "status   #target column i.e price range\n",
    "k = ML_functions.univariate_selectKbest(X,status)"
   ]
  },
  {
   "cell_type": "markdown",
   "metadata": {},
   "source": [
    "Convert Label to numerical"
   ]
  },
  {
   "cell_type": "code",
   "execution_count": 7,
   "metadata": {},
   "outputs": [],
   "source": [
    "y,labels = ML_functions.convert_label_numerical(data_df)\n",
    "X = np.asarray(data_df.iloc[:,:-1])\n",
    "status[\"Label\"]=y"
   ]
  },
  {
   "cell_type": "code",
   "execution_count": 8,
   "metadata": {},
   "outputs": [
    {
     "data": {
      "text/plain": [
       "['Cancer', 'Control']"
      ]
     },
     "execution_count": 8,
     "metadata": {},
     "output_type": "execute_result"
    }
   ],
   "source": [
    "labels"
   ]
  },
  {
   "cell_type": "markdown",
   "metadata": {},
   "source": [
    "SVM-RFE Feature Ranking "
   ]
  },
  {
   "cell_type": "code",
   "execution_count": 9,
   "metadata": {},
   "outputs": [
    {
     "name": "stdout",
     "output_type": "stream",
     "text": [
      "      Specs      Score\n",
      "85   P07737  71.130625\n",
      "202  Q9H4G4  68.937021\n",
      "143  P43121  54.597270\n",
      "255  P27487  52.942047\n",
      "230  Q99801  52.424723\n",
      "34   P01764  38.426600\n",
      "215  P01609  36.081065\n",
      "35   P01765  34.245025\n",
      "118  P18136  33.394268\n",
      "31   P01717  31.613122\n",
      "152  P55056  31.183146\n",
      "258  Q9UNN8  28.053792\n",
      "247  Q8WZ42  26.221214\n",
      "59   P04075  24.637111\n",
      "178  Q15113  23.966834\n",
      "165  Q03135  23.891124\n",
      "73   P05154  23.021804\n",
      "38   P01781  22.605682\n",
      "153  P55211  21.765368\n",
      "190  Q7Z7G0  21.670606\n"
     ]
    }
   ],
   "source": [
    "from sklearn.feature_selection import SelectKBest,f_classif,chi2\n",
    "X = data_df.iloc[:,1:-1]  #independent columns\n",
    "y = status   #target column i.e price range\n",
    "#apply SelectKBest class to extract top 10 best features\n",
    "bestfeatures = SelectKBest(score_func=chi2, k=10)\n",
    "fit = bestfeatures.fit(X,y)\n",
    "dfscores = pd.DataFrame(fit.scores_)\n",
    "dfcolumns = pd.DataFrame(X.columns)\n",
    "#concat two dataframes for better visualization \n",
    "featureScores = pd.concat([dfcolumns,dfscores],axis=1)\n",
    "featureScores.columns = ['Specs','Score']  #naming the dataframe columns\n",
    "print(featureScores.nlargest(20,'Score'))  #print 10 best features"
   ]
  },
  {
   "cell_type": "markdown",
   "metadata": {},
   "source": [
    "Feature_importance selected by RF"
   ]
  },
  {
   "cell_type": "code",
   "execution_count": 10,
   "metadata": {},
   "outputs": [
    {
     "name": "stderr",
     "output_type": "stream",
     "text": [
      "C:\\Users\\457970640\\Desktop\\Bioinformatics\\R forest\\real data\\ML_functions.py:80: DataConversionWarning: A column-vector y was passed when a 1d array was expected. Please change the shape of y to (n_samples,), for example using ravel().\n",
      "  rf.fit(X,y)\n"
     ]
    },
    {
     "ename": "ValueError",
     "evalue": "arrays must all be same length",
     "output_type": "error",
     "traceback": [
      "\u001b[1;31m---------------------------------------------------------------------------\u001b[0m",
      "\u001b[1;31mValueError\u001b[0m                                Traceback (most recent call last)",
      "\u001b[1;32m<ipython-input-10-d20ef298b73e>\u001b[0m in \u001b[0;36m<module>\u001b[1;34m\u001b[0m\n\u001b[0;32m      1\u001b[0m \u001b[0mindex_\u001b[0m \u001b[1;33m=\u001b[0m \u001b[0mdata_df\u001b[0m\u001b[1;33m.\u001b[0m\u001b[0miloc\u001b[0m\u001b[1;33m[\u001b[0m\u001b[1;33m:\u001b[0m\u001b[1;33m,\u001b[0m\u001b[1;33m:\u001b[0m\u001b[1;33m-\u001b[0m\u001b[1;36m1\u001b[0m\u001b[1;33m]\u001b[0m\u001b[1;33m.\u001b[0m\u001b[0mcolumns\u001b[0m\u001b[1;33m\u001b[0m\u001b[1;33m\u001b[0m\u001b[0m\n\u001b[1;32m----> 2\u001b[1;33m \u001b[0mfeature_importances\u001b[0m \u001b[1;33m=\u001b[0m \u001b[0mML_functions\u001b[0m\u001b[1;33m.\u001b[0m\u001b[0mRF_feature_selection\u001b[0m\u001b[1;33m(\u001b[0m\u001b[0mX\u001b[0m\u001b[1;33m,\u001b[0m\u001b[0my\u001b[0m\u001b[1;33m,\u001b[0m\u001b[0mindex_\u001b[0m\u001b[1;33m)\u001b[0m\u001b[1;33m\u001b[0m\u001b[1;33m\u001b[0m\u001b[0m\n\u001b[0m\u001b[0;32m      3\u001b[0m \u001b[1;31m#for i in feature_importances['importances'][0:15]:\u001b[0m\u001b[1;33m\u001b[0m\u001b[1;33m\u001b[0m\u001b[1;33m\u001b[0m\u001b[0m\n\u001b[0;32m      4\u001b[0m  \u001b[1;31m#   print(\"{:.3f}\".format(i))\u001b[0m\u001b[1;33m\u001b[0m\u001b[1;33m\u001b[0m\u001b[1;33m\u001b[0m\u001b[0m\n",
      "\u001b[1;32m~\\Desktop\\Bioinformatics\\R forest\\real data\\ML_functions.py\u001b[0m in \u001b[0;36mRF_feature_selection\u001b[1;34m(X, y, protein_columns)\u001b[0m\n\u001b[0;32m     81\u001b[0m     dict_ = {'importances':rf.feature_importances_,\n\u001b[0;32m     82\u001b[0m              'ID':protein_columns}\n\u001b[1;32m---> 83\u001b[1;33m     \u001b[0mfeature_importances\u001b[0m \u001b[1;33m=\u001b[0m \u001b[0mpd\u001b[0m\u001b[1;33m.\u001b[0m\u001b[0mDataFrame\u001b[0m\u001b[1;33m(\u001b[0m\u001b[0mdict_\u001b[0m\u001b[1;33m,\u001b[0m\u001b[0mindex\u001b[0m \u001b[1;33m=\u001b[0m \u001b[1;32mNone\u001b[0m\u001b[1;33m)\u001b[0m\u001b[1;33m.\u001b[0m\u001b[0msort_values\u001b[0m\u001b[1;33m(\u001b[0m\u001b[1;34m'importances'\u001b[0m\u001b[1;33m,\u001b[0m\u001b[0mascending\u001b[0m \u001b[1;33m=\u001b[0m \u001b[1;32mFalse\u001b[0m\u001b[1;33m)\u001b[0m\u001b[1;33m\u001b[0m\u001b[1;33m\u001b[0m\u001b[0m\n\u001b[0m\u001b[0;32m     84\u001b[0m     \u001b[1;32mreturn\u001b[0m \u001b[0mfeature_importances\u001b[0m\u001b[1;33m\u001b[0m\u001b[1;33m\u001b[0m\u001b[0m\n\u001b[0;32m     85\u001b[0m     \u001b[1;31m#print(\"The accuracy of the model is: \",rf.oob_score_)\u001b[0m\u001b[1;33m\u001b[0m\u001b[1;33m\u001b[0m\u001b[1;33m\u001b[0m\u001b[0m\n",
      "\u001b[1;32mc:\\users\\457970640\\anaconda3\\envs\\random_forest\\lib\\site-packages\\pandas\\core\\frame.py\u001b[0m in \u001b[0;36m__init__\u001b[1;34m(self, data, index, columns, dtype, copy)\u001b[0m\n\u001b[0;32m    433\u001b[0m             )\n\u001b[0;32m    434\u001b[0m         \u001b[1;32melif\u001b[0m \u001b[0misinstance\u001b[0m\u001b[1;33m(\u001b[0m\u001b[0mdata\u001b[0m\u001b[1;33m,\u001b[0m \u001b[0mdict\u001b[0m\u001b[1;33m)\u001b[0m\u001b[1;33m:\u001b[0m\u001b[1;33m\u001b[0m\u001b[1;33m\u001b[0m\u001b[0m\n\u001b[1;32m--> 435\u001b[1;33m             \u001b[0mmgr\u001b[0m \u001b[1;33m=\u001b[0m \u001b[0minit_dict\u001b[0m\u001b[1;33m(\u001b[0m\u001b[0mdata\u001b[0m\u001b[1;33m,\u001b[0m \u001b[0mindex\u001b[0m\u001b[1;33m,\u001b[0m \u001b[0mcolumns\u001b[0m\u001b[1;33m,\u001b[0m \u001b[0mdtype\u001b[0m\u001b[1;33m=\u001b[0m\u001b[0mdtype\u001b[0m\u001b[1;33m)\u001b[0m\u001b[1;33m\u001b[0m\u001b[1;33m\u001b[0m\u001b[0m\n\u001b[0m\u001b[0;32m    436\u001b[0m         \u001b[1;32melif\u001b[0m \u001b[0misinstance\u001b[0m\u001b[1;33m(\u001b[0m\u001b[0mdata\u001b[0m\u001b[1;33m,\u001b[0m \u001b[0mma\u001b[0m\u001b[1;33m.\u001b[0m\u001b[0mMaskedArray\u001b[0m\u001b[1;33m)\u001b[0m\u001b[1;33m:\u001b[0m\u001b[1;33m\u001b[0m\u001b[1;33m\u001b[0m\u001b[0m\n\u001b[0;32m    437\u001b[0m             \u001b[1;32mimport\u001b[0m \u001b[0mnumpy\u001b[0m\u001b[1;33m.\u001b[0m\u001b[0mma\u001b[0m\u001b[1;33m.\u001b[0m\u001b[0mmrecords\u001b[0m \u001b[1;32mas\u001b[0m \u001b[0mmrecords\u001b[0m\u001b[1;33m\u001b[0m\u001b[1;33m\u001b[0m\u001b[0m\n",
      "\u001b[1;32mc:\\users\\457970640\\anaconda3\\envs\\random_forest\\lib\\site-packages\\pandas\\core\\internals\\construction.py\u001b[0m in \u001b[0;36minit_dict\u001b[1;34m(data, index, columns, dtype)\u001b[0m\n\u001b[0;32m    252\u001b[0m             \u001b[0marr\u001b[0m \u001b[1;32mif\u001b[0m \u001b[1;32mnot\u001b[0m \u001b[0mis_datetime64tz_dtype\u001b[0m\u001b[1;33m(\u001b[0m\u001b[0marr\u001b[0m\u001b[1;33m)\u001b[0m \u001b[1;32melse\u001b[0m \u001b[0marr\u001b[0m\u001b[1;33m.\u001b[0m\u001b[0mcopy\u001b[0m\u001b[1;33m(\u001b[0m\u001b[1;33m)\u001b[0m \u001b[1;32mfor\u001b[0m \u001b[0marr\u001b[0m \u001b[1;32min\u001b[0m \u001b[0marrays\u001b[0m\u001b[1;33m\u001b[0m\u001b[1;33m\u001b[0m\u001b[0m\n\u001b[0;32m    253\u001b[0m         ]\n\u001b[1;32m--> 254\u001b[1;33m     \u001b[1;32mreturn\u001b[0m \u001b[0marrays_to_mgr\u001b[0m\u001b[1;33m(\u001b[0m\u001b[0marrays\u001b[0m\u001b[1;33m,\u001b[0m \u001b[0mdata_names\u001b[0m\u001b[1;33m,\u001b[0m \u001b[0mindex\u001b[0m\u001b[1;33m,\u001b[0m \u001b[0mcolumns\u001b[0m\u001b[1;33m,\u001b[0m \u001b[0mdtype\u001b[0m\u001b[1;33m=\u001b[0m\u001b[0mdtype\u001b[0m\u001b[1;33m)\u001b[0m\u001b[1;33m\u001b[0m\u001b[1;33m\u001b[0m\u001b[0m\n\u001b[0m\u001b[0;32m    255\u001b[0m \u001b[1;33m\u001b[0m\u001b[0m\n\u001b[0;32m    256\u001b[0m \u001b[1;33m\u001b[0m\u001b[0m\n",
      "\u001b[1;32mc:\\users\\457970640\\anaconda3\\envs\\random_forest\\lib\\site-packages\\pandas\\core\\internals\\construction.py\u001b[0m in \u001b[0;36marrays_to_mgr\u001b[1;34m(arrays, arr_names, index, columns, dtype)\u001b[0m\n\u001b[0;32m     62\u001b[0m     \u001b[1;31m# figure out the index, if necessary\u001b[0m\u001b[1;33m\u001b[0m\u001b[1;33m\u001b[0m\u001b[1;33m\u001b[0m\u001b[0m\n\u001b[0;32m     63\u001b[0m     \u001b[1;32mif\u001b[0m \u001b[0mindex\u001b[0m \u001b[1;32mis\u001b[0m \u001b[1;32mNone\u001b[0m\u001b[1;33m:\u001b[0m\u001b[1;33m\u001b[0m\u001b[1;33m\u001b[0m\u001b[0m\n\u001b[1;32m---> 64\u001b[1;33m         \u001b[0mindex\u001b[0m \u001b[1;33m=\u001b[0m \u001b[0mextract_index\u001b[0m\u001b[1;33m(\u001b[0m\u001b[0marrays\u001b[0m\u001b[1;33m)\u001b[0m\u001b[1;33m\u001b[0m\u001b[1;33m\u001b[0m\u001b[0m\n\u001b[0m\u001b[0;32m     65\u001b[0m     \u001b[1;32melse\u001b[0m\u001b[1;33m:\u001b[0m\u001b[1;33m\u001b[0m\u001b[1;33m\u001b[0m\u001b[0m\n\u001b[0;32m     66\u001b[0m         \u001b[0mindex\u001b[0m \u001b[1;33m=\u001b[0m \u001b[0mensure_index\u001b[0m\u001b[1;33m(\u001b[0m\u001b[0mindex\u001b[0m\u001b[1;33m)\u001b[0m\u001b[1;33m\u001b[0m\u001b[1;33m\u001b[0m\u001b[0m\n",
      "\u001b[1;32mc:\\users\\457970640\\anaconda3\\envs\\random_forest\\lib\\site-packages\\pandas\\core\\internals\\construction.py\u001b[0m in \u001b[0;36mextract_index\u001b[1;34m(data)\u001b[0m\n\u001b[0;32m    363\u001b[0m             \u001b[0mlengths\u001b[0m \u001b[1;33m=\u001b[0m \u001b[0mlist\u001b[0m\u001b[1;33m(\u001b[0m\u001b[0mset\u001b[0m\u001b[1;33m(\u001b[0m\u001b[0mraw_lengths\u001b[0m\u001b[1;33m)\u001b[0m\u001b[1;33m)\u001b[0m\u001b[1;33m\u001b[0m\u001b[1;33m\u001b[0m\u001b[0m\n\u001b[0;32m    364\u001b[0m             \u001b[1;32mif\u001b[0m \u001b[0mlen\u001b[0m\u001b[1;33m(\u001b[0m\u001b[0mlengths\u001b[0m\u001b[1;33m)\u001b[0m \u001b[1;33m>\u001b[0m \u001b[1;36m1\u001b[0m\u001b[1;33m:\u001b[0m\u001b[1;33m\u001b[0m\u001b[1;33m\u001b[0m\u001b[0m\n\u001b[1;32m--> 365\u001b[1;33m                 \u001b[1;32mraise\u001b[0m \u001b[0mValueError\u001b[0m\u001b[1;33m(\u001b[0m\u001b[1;34m\"arrays must all be same length\"\u001b[0m\u001b[1;33m)\u001b[0m\u001b[1;33m\u001b[0m\u001b[1;33m\u001b[0m\u001b[0m\n\u001b[0m\u001b[0;32m    366\u001b[0m \u001b[1;33m\u001b[0m\u001b[0m\n\u001b[0;32m    367\u001b[0m             \u001b[1;32mif\u001b[0m \u001b[0mhave_dicts\u001b[0m\u001b[1;33m:\u001b[0m\u001b[1;33m\u001b[0m\u001b[1;33m\u001b[0m\u001b[0m\n",
      "\u001b[1;31mValueError\u001b[0m: arrays must all be same length"
     ]
    }
   ],
   "source": [
    "index_ = data_df.iloc[:,:-1].columns\n",
    "feature_importances = ML_functions.RF_feature_selection(X,y,index_)\n",
    "#for i in feature_importances['importances'][0:15]:\n",
    " #   print(\"{:.3f}\".format(i))"
   ]
  },
  {
   "cell_type": "markdown",
   "metadata": {},
   "source": [
    "### Feature selection (enter below)"
   ]
  },
  {
   "cell_type": "code",
   "execution_count": null,
   "metadata": {},
   "outputs": [],
   "source": [
    "# Anova + RF_immune relevant + complement\n",
    "selected_features_B = ['P07996', 'P01019', 'P01375','P08185',\n",
    "                       'P02776','P27169','P02745','P05154', ]"
   ]
  },
  {
   "cell_type": "markdown",
   "metadata": {},
   "source": [
    "### Split Data and run RF"
   ]
  },
  {
   "cell_type": "code",
   "execution_count": null,
   "metadata": {},
   "outputs": [],
   "source": [
    "from sklearn import model_selection\n",
    "from sklearn.metrics import precision_score, recall_score,accuracy_score\n",
    "from sklearn.metrics import roc_curve, auc, confusion_matrix, roc_auc_score\n",
    "from sklearn.model_selection import train_test_split\n",
    "from sklearn.ensemble import RandomForestClassifier\n",
    "from sklearn.metrics import classification_report\n",
    "data_RF = data_df[selected_features_B]\n",
    "#data_RF = data_df.iloc[:,:-1]\n",
    "\n",
    "## Fit in model\n",
    "X_train, X_test, y_train, y_test = train_test_split(data_RF, status)\n",
    "X_train = np.array(X_train)\n",
    "X_test = np.array(X_test)\n",
    "y_train = y_train.Label.values\n",
    "y_test = y_test.Label.values\n",
    "rf = RandomForestClassifier(n_estimators=100, oob_score=True) \n"
   ]
  },
  {
   "cell_type": "markdown",
   "metadata": {},
   "source": [
    "Model training and 10-fold cross validation"
   ]
  },
  {
   "cell_type": "code",
   "execution_count": null,
   "metadata": {},
   "outputs": [],
   "source": [
    "## Cross-Validation\n",
    "cv_iter = model_selection.StratifiedShuffleSplit(n_splits=10,test_size=1/5)\n",
    "oob_scores = 0\n",
    "precision_ = 0 \n",
    "accuracy_ = 0\n",
    "recall_ = 0\n",
    "for train, test in cv_iter.split(X_train, y_train):\n",
    "    x_train_cv = X_train[train] \n",
    "    y_train_cv = y_train[train]\n",
    "    x_validate_cv = X_train[test] \n",
    "    y_validate_cv = y_train[test]\n",
    "    # Iteratively train the model\n",
    "    rf.fit(x_train_cv,y_train_cv)\n",
    "    result = rf.predict(x_validate_cv)\n",
    "    preci = precision_score (y_validate_cv,result)\n",
    "    reca = recall_score (y_validate_cv,result)\n",
    "    accu = accuracy_score (y_validate_cv,result)\n",
    "    oob_scores += float(rf.oob_score_)\n",
    "    precision_ += float(preci)\n",
    "    recall_ += float (reca)\n",
    "    accuracy_ += float (accu)\n",
    "\n",
    "precision_RF = \"{:.3f}\".format(precision_/10)\n",
    "oobError_RF = \"{:.3f}\".format(1 - oob_scores/10)\n",
    "recall_RF = \"{:.3f}\".format(recall_/10)\n",
    "accuracy_RF = \"{:.3f}\".format(accuracy_/10)\n",
    "error_RF = \"{:.3f}\".format(1 - accuracy_/10)\n",
    "print('The RF CV oob error is: ',  oobError_RF)\n",
    "print('The RF CV precision is: ', precision_RF)\n",
    "print('The RF CV recall is: ', recall_RF)\n",
    "print('The RF CV error is: ', error_RF)\n",
    "print('The RF CV accuracy is: ', accuracy_RF)\n",
    "\n"
   ]
  },
  {
   "cell_type": "markdown",
   "metadata": {},
   "source": [
    "Testing phase "
   ]
  },
  {
   "cell_type": "code",
   "execution_count": null,
   "metadata": {},
   "outputs": [],
   "source": [
    "rf.fit(x_train_cv,y_train_cv)\n",
    "result = rf.predict(X_test)\n",
    "preci = precision_score (y_test,result)\n",
    "reca = recall_score (y_test,result)\n",
    "accu = \"{:.3f}\".format(accuracy_score (y_test,result))\n",
    "print('The RF CV accuracy is: ', accu)\n",
    "#ML_functions.draw_confusion_matrix(y_test,result)"
   ]
  },
  {
   "cell_type": "code",
   "execution_count": null,
   "metadata": {},
   "outputs": [],
   "source": [
    "ML_functions.draw_confusion_matrix(y_test,result)"
   ]
  },
  {
   "cell_type": "code",
   "execution_count": null,
   "metadata": {},
   "outputs": [],
   "source": [
    "print(X_test.shape)"
   ]
  },
  {
   "cell_type": "code",
   "execution_count": null,
   "metadata": {},
   "outputs": [],
   "source": [
    "# RF testing ROC score \n",
    "thres = 0.5\n",
    "probas_ = rf.predict_proba(X_test) ### predict class probabilities\n",
    "pred_ = probas_[:, 1] > thres\n",
    "fpr_RF, tpr_RF, thresholds = roc_curve(y_test, probas_[:, 1])\n",
    "train_auc_RF = roc_auc_score(y_test,probas_[:,1])\n",
    "print(\"ROC-AUC score is: \",train_auc_RF)\n",
    "\n",
    "ML_functions.draw_ROC(fpr_RF,tpr_RF,train_auc_RF,'RF')"
   ]
  },
  {
   "cell_type": "code",
   "execution_count": null,
   "metadata": {},
   "outputs": [],
   "source": [
    "table_pd = pd.DataFrame({'RF':[precision_RF,oobError_RF,recall_RF,error_RF,accuracy_RF,accu, \"{:.3f}\".format(train_auc_RF)]},\n",
    "                        index = ['Precision', 'oobError','Recall','error','Model Accuracy',\n",
    "                                 'Testing Accuracy','ROC-AUC' ])"
   ]
  },
  {
   "cell_type": "markdown",
   "metadata": {},
   "source": [
    "### Bootstrapping to calculate confidence interval of AUC and Accuracy"
   ]
  },
  {
   "cell_type": "code",
   "execution_count": null,
   "metadata": {},
   "outputs": [],
   "source": [
    "X_train_bt, X_test_bt, y_train_bt, y_test_bt = train_test_split(data_RF, status)\n",
    "Train_boot = pd.concat([X_train_bt,y_train_bt],axis=1)\n",
    "Test_boot = pd.concat([X_test_bt,y_test_bt],axis=1)"
   ]
  },
  {
   "cell_type": "code",
   "execution_count": null,
   "metadata": {},
   "outputs": [],
   "source": [
    "from sklearn.utils import resample\n",
    "# configure bootstrap\n",
    "n_iterations = 1000\n",
    "n_size = int(len(Train_boot) * 2/3)\n",
    "n_size_test = int(len(Test_boot))\n",
    "\n",
    "# run boostrap\n",
    "stats = list()\n",
    "for i in range(n_iterations):\n",
    "    train_bootstrap = resample(Train_boot,n_samples = n_size)\n",
    "    test_bootstrap = resample(Test_boot,n_samples = n_size_test)\n",
    "    train_value = train_bootstrap.iloc[:,:-1].values\n",
    "    train_status = train_bootstrap.iloc[:,-1].values\n",
    "    test_value = test_bootstrap.iloc[:,:-1].values\n",
    "    test_status = test_bootstrap.iloc[:,-1].values\n",
    "    #fit model\n",
    "    rf = RandomForestClassifier(n_estimators=100, oob_score=True) \n",
    "    rf.fit(train_value,train_status)\n",
    "    #evaluate model\n",
    "    probas_ = rf.predict_proba(test_value) ### predict class probabilities\n",
    "    fpr_i, tpr_i, thresholds = roc_curve(test_status, probas_[:, 1])\n",
    "    train_auc = roc_auc_score(test_status,probas_[:,1])\n",
    "    stats.append(train_auc)"
   ]
  },
  {
   "cell_type": "code",
   "execution_count": null,
   "metadata": {},
   "outputs": [],
   "source": [
    "# confidence intervals 95%\n",
    "alpha = 0.95\n",
    "p = ((1.0-alpha)/2.0) * 100\n",
    "lower = max(0.0, np.percentile(stats, p))\n",
    "p = (alpha+((1.0-alpha)/2.0)) * 100\n",
    "upper = min(1.0, np.percentile(stats, p))\n",
    "print('%.1f confidence interval %.1f%% and %.1f%%' % (alpha*100, lower*100, upper*100))"
   ]
  },
  {
   "cell_type": "markdown",
   "metadata": {},
   "source": [
    "### SVM model"
   ]
  },
  {
   "cell_type": "markdown",
   "metadata": {},
   "source": [
    "SVM model fitting and 10-fold cross validation"
   ]
  },
  {
   "cell_type": "code",
   "execution_count": null,
   "metadata": {},
   "outputs": [],
   "source": [
    "# SVM MODEL \n",
    "from sklearn.preprocessing import StandardScaler\n",
    "from sklearn.model_selection import GridSearchCV\n",
    "from sklearn.svm import SVC\n",
    "scaler = StandardScaler()\n",
    "X_train_scaled = scaler.fit_transform(x_train_cv)\n",
    "X_validate_scaled = scaler.fit_transform(x_validate_cv)\n",
    "params_grid = [{'kernel': ['rbf'], 'gamma': [1e-3, 1e-4],\n",
    "                     'C': [1, 10, 100, 1000]},\n",
    "               {'kernel': ['linear'], 'C': [1, 10, 100, 1000]},\n",
    "               {'kernel': ['poly'], 'C': [1, 10, 100, 1000]}\n",
    "              ]\n",
    "svm_model = GridSearchCV(SVC(probability = True), params_grid, cv=10)\n",
    "svm_model.fit(X_train_scaled, y_train_cv)\n",
    "# View the accuracy score\n",
    "print('Best SVM accuracy score for training data:', svm_model.best_score_,\"\\n\") \n",
    "\n",
    "# View the best parameters for the model found using grid search\n",
    "print('Best C:',svm_model.best_estimator_.C,\"\\n\") \n",
    "print('Best Kernel:',svm_model.best_estimator_.kernel,\"\\n\")\n",
    "print('Best Gamma:',svm_model.best_estimator_.gamma,\"\\n\")"
   ]
  },
  {
   "cell_type": "code",
   "execution_count": null,
   "metadata": {},
   "outputs": [],
   "source": [
    "final_model = svm_model.best_estimator_\n",
    "result = final_model.predict(X_validate_scaled)\n",
    "preci = \"{:.3f}\".format(precision_score (y_validate_cv,result))\n",
    "reca = \"{:.3f}\".format(recall_score (y_validate_cv,result))\n",
    "SVM_accu_model = \"{:.3f}\".format(svm_model.best_score_)\n",
    "erro = \"{:.3f}\".format(1 - accuracy_score (y_validate_cv,result))\n",
    "print('The SVM CV precision is: ', preci)\n",
    "print('The SVM CV recall is: ', reca)\n",
    "print('The SVM CV error is: ', erro)\n",
    "print('The SVM CV accuracy is: ', SVM_accu_model)"
   ]
  },
  {
   "cell_type": "markdown",
   "metadata": {},
   "source": [
    "Testing phase "
   ]
  },
  {
   "cell_type": "code",
   "execution_count": null,
   "metadata": {},
   "outputs": [],
   "source": [
    "## Accuracy and confusion matrix\n",
    "X_test_scaled = scaler.transform(X_test)\n",
    "final_model = svm_model.best_estimator_\n",
    "result = final_model.predict(X_test_scaled)\n",
    "SVM_accu_test = \"{:.3f}\".format(accuracy_score (y_test,result))\n",
    "print('The testing SVM accuracy is: ',SVM_accu_test )\n",
    "#ML_functions.draw_confusion_matrix(y_test,result)\n",
    "\n",
    "## ROC\n",
    "probas_SVM = final_model.predict_proba(X_test_scaled)\n",
    "fpr_SVM,tpr_SVM,thresholds = roc_curve(y_test,probas_SVM[:,1])\n",
    "train_auc_SVM_test = roc_auc_score(y_test,probas_SVM[:,1])\n",
    "print(\"train SVM auc score is: \",train_auc_SVM_test)"
   ]
  },
  {
   "cell_type": "code",
   "execution_count": null,
   "metadata": {},
   "outputs": [],
   "source": [
    "ML_functions.draw_confusion_matrix(y_test,result)"
   ]
  },
  {
   "cell_type": "markdown",
   "metadata": {},
   "source": [
    "### Bootstrapping "
   ]
  },
  {
   "cell_type": "code",
   "execution_count": null,
   "metadata": {},
   "outputs": [],
   "source": [
    "from sklearn.utils import resample\n",
    "from sklearn.svm import SVC\n",
    "# configure bootstrap\n",
    "n_iterations = 1000\n",
    "n_size = int(len(Train_boot) * 2/3)\n",
    "n_size_test = int(len(Test_boot))\n",
    "\n",
    "# run boostrap\n",
    "stats_SVM = list()\n",
    "for i in range(n_iterations):\n",
    "    train_bootstrap = resample(Train_boot,n_samples = n_size)\n",
    "    test_bootstrap = resample(Test_boot,n_samples = n_size_test)\n",
    "    train_value = train_bootstrap.iloc[:,:-1].values\n",
    "    train_status = train_bootstrap.iloc[:,-1].values\n",
    "    test_value = test_bootstrap.iloc[:,:-1].values\n",
    "    test_status = test_bootstrap.iloc[:,-1].values\n",
    "    #fit model\n",
    "    scaler = StandardScaler()\n",
    "    X_train_bootstrap = scaler.fit_transform(train_value)\n",
    "    X_validate_bootstrap = scaler.fit_transform(test_value)\n",
    "    svm_model = SVC(kernel = 'rbf',C=1,gamma = 0.0001 ,probability = True)\n",
    "    svm_model.fit(X_train_bootstrap, train_status) \n",
    "    #evaluate model\n",
    "    probas_SVM = svm_model.predict_proba(X_validate_bootstrap)\n",
    "    fpr_SVM,tpr_SVM,thresholds = roc_curve(test_status,probas_SVM[:,1])\n",
    "    train_auc_SVM = roc_auc_score(test_status,probas_SVM[:,1])\n",
    "    stats_SVM.append(train_auc_SVM)"
   ]
  },
  {
   "cell_type": "code",
   "execution_count": null,
   "metadata": {},
   "outputs": [],
   "source": [
    "# confidence intervals 95%\n",
    "alpha = 0.95\n",
    "p = ((1.0-alpha)/2.0) * 100\n",
    "lower = max(0.0, np.percentile(stats_SVM, p))\n",
    "p = (alpha+((1.0-alpha)/2.0)) * 100\n",
    "upper = min(1.0, np.percentile(stats_SVM, p))\n",
    "print('%.1f confidence interval %.1f%% and %.1f%%' % (alpha*100, lower*100, upper*100))"
   ]
  },
  {
   "cell_type": "markdown",
   "metadata": {},
   "source": [
    "Model Summary "
   ]
  },
  {
   "cell_type": "code",
   "execution_count": null,
   "metadata": {},
   "outputs": [],
   "source": [
    "table_pd['SVM'] = [preci,'NA',reca,erro,SVM_accu_model,SVM_accu_test,\"{:.3f}\".format(train_auc_SVM_test) ]\n",
    "table_pd"
   ]
  },
  {
   "cell_type": "markdown",
   "metadata": {},
   "source": [
    "### Draw Performance graph SVM vs RF"
   ]
  },
  {
   "cell_type": "code",
   "execution_count": null,
   "metadata": {},
   "outputs": [],
   "source": [
    "plt.figure()\n",
    "plt.plot([0, 1], [0, 1], 'k--')\n",
    "#plt.plot(mean_fpr, mean_tpr_cons, 'b-', label='training cohort (AUC = %.03f)' % train_auc)\n",
    "plt.plot(fpr_RF, tpr_RF, 'b-', label='RF (AUC = %.03f)' % train_auc_RF)\n",
    "plt.plot(fpr_SVM, tpr_SVM, 'r-', label='SVM (AUC = %.03f)' % train_auc_SVM_test)\n",
    "#fpr_i, tpr_i\n",
    "#plt.plot(fpr_test, tpr_test, 'r-', label='test_cohort (AUC = %.03f)' % test_auc)\n",
    "plt.xlim([0.0, 1.0])\n",
    "plt.ylim([0.0, 1.05])\n",
    "plt.xlabel('1 - specificity')\n",
    "plt.ylabel('sensitivity')\n",
    "plt.title('cancer vs. control')\n",
    "plt.legend(loc=\"lower right\", prop={'size':10})\n",
    "plt.show()\n",
    "plt.close()\n"
   ]
  },
  {
   "cell_type": "markdown",
   "metadata": {},
   "source": [
    "### Clustering --- Draw tsne plot"
   ]
  },
  {
   "cell_type": "code",
   "execution_count": null,
   "metadata": {},
   "outputs": [],
   "source": [
    "Perplexity_list = [20,30,50]\n",
    "x_subset = data_RF.values\n",
    "y_subset = status.values\n",
    "label_tsne = list(data.Label)\n",
    "ML_functions.draw_tsne(x_subset,y_subset,label_tsne,Perplexity_list)"
   ]
  },
  {
   "cell_type": "markdown",
   "metadata": {},
   "source": [
    "### Clustering --- PCA plot "
   ]
  },
  {
   "cell_type": "code",
   "execution_count": null,
   "metadata": {},
   "outputs": [],
   "source": [
    "import matplotlib.pyplot as plt\n",
    "import numpy as np\n",
    "import pandas as pd\n",
    "import visualisation # self-created script, known as visualisation.py\n",
    "import plotly\n",
    "import plotly.express as px\n",
    "import plotly.graph_objs as go\n",
    "from sklearn.preprocessing import StandardScaler"
   ]
  },
  {
   "cell_type": "markdown",
   "metadata": {},
   "source": [
    "##### Change here for feature selection"
   ]
  },
  {
   "cell_type": "code",
   "execution_count": null,
   "metadata": {},
   "outputs": [],
   "source": [
    "RF_feature =  ['P07996', 'P01019', 'P01375','P08185',\n",
    "                       'P02776','P27169','P02745','P05154', ]\n",
    "#, 'P19652'\n",
    "#'Q9H4G4',\n",
    "\n",
    "#RF_feature = ['P07996', 'P18428', 'P02766', 'P01019', 'P08185',\n",
    " #     'P43251', 'P05154', 'P19652','P07737','P27169'] "
   ]
  },
  {
   "cell_type": "code",
   "execution_count": null,
   "metadata": {},
   "outputs": [],
   "source": [
    "data_RF = data_df[RF_feature]\n",
    "x = data_RF.iloc[:]\n",
    "data_ = StandardScaler().fit_transform(x)\n",
    "data_ = pd.DataFrame(x,columns = RF_feature)\n",
    "labels = data.iloc[:,-1]\n",
    "W, scores, fracs = visualisation.do_pca(data_)\n",
    "scores = scores/abs(scores).max().max() # Scale the scores by the maximum value in the score matrix"
   ]
  },
  {
   "cell_type": "code",
   "execution_count": null,
   "metadata": {
    "scrolled": false
   },
   "outputs": [],
   "source": [
    "x = np.arange(1,len(fracs)+1)\n",
    "y = np.cumsum(fracs) # Cumulative sum of elements in the fracs array\n",
    "fig = go.Figure(data=go.Scatter(x=x, y=y))\n",
    "fig.update_layout(xaxis_title='Principal component', yaxis_title='Variance explained (cummulative)',\n",
    "                 xaxis = dict(dtick = 1.0))\n",
    "fig.show()"
   ]
  },
  {
   "cell_type": "markdown",
   "metadata": {},
   "source": [
    "### 2D PCA plot "
   ]
  },
  {
   "cell_type": "code",
   "execution_count": null,
   "metadata": {},
   "outputs": [],
   "source": [
    "XPC = 'PC2' # Principal component shown on x-axis\n",
    "YPC = 'PC3' # Principal component shown on y-axis\n",
    "fig = px.scatter(scores, x=XPC, y=YPC, color = labels, hover_data=[XPC,YPC])\n",
    "fig.update_traces(mode='markers', marker_line_width=1, marker_size=8)\n",
    "fig.update_layout(title = {'text':'PCA of Binary data',\n",
    "                          'x':0.5, 'xanchor':'center', 'y':0.98, 'yanchor':'top'},\n",
    "                  xaxis_title = 'PC2 (Variance = 0.17)',\n",
    "                  yaxis_title = 'PC3 (Variance = 0.10)',\n",
    "                  font = dict(size = 24))\n",
    "fig.show()"
   ]
  },
  {
   "cell_type": "code",
   "execution_count": null,
   "metadata": {},
   "outputs": [],
   "source": [
    "fig = px.scatter_3d(scores, x='PC2', y='PC3', z='PC1', color=labels)\n",
    "fig.update_layout(title = {'text':'PCA of Binary data',\n",
    "                          'x':0.5, 'xanchor':'center', 'y':0.98, 'yanchor':'top'},\n",
    "                  xaxis_title = 'PC2 (Variance = 0.31)',\n",
    "                  yaxis_title = 'PC3 (Variance = 0.17)',\n",
    "                  font = dict(size = 14))\n",
    "fig.show()"
   ]
  },
  {
   "cell_type": "code",
   "execution_count": null,
   "metadata": {},
   "outputs": [],
   "source": []
  },
  {
   "cell_type": "code",
   "execution_count": null,
   "metadata": {},
   "outputs": [],
   "source": []
  }
 ],
 "metadata": {
  "kernelspec": {
   "display_name": "Python 3",
   "language": "python",
   "name": "python3"
  },
  "language_info": {
   "codemirror_mode": {
    "name": "ipython",
    "version": 3
   },
   "file_extension": ".py",
   "mimetype": "text/x-python",
   "name": "python",
   "nbconvert_exporter": "python",
   "pygments_lexer": "ipython3",
   "version": "3.8.1"
  }
 },
 "nbformat": 4,
 "nbformat_minor": 4
}
